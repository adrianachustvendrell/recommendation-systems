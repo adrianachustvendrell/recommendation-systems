{
 "cells": [
  {
   "cell_type": "code",
   "execution_count": 2,
   "metadata": {},
   "outputs": [],
   "source": [
    "import pandas as pd"
   ]
  },
  {
   "cell_type": "code",
   "execution_count": 12,
   "metadata": {},
   "outputs": [
    {
     "data": {
      "text/html": [
       "<div>\n",
       "<style scoped>\n",
       "    .dataframe tbody tr th:only-of-type {\n",
       "        vertical-align: middle;\n",
       "    }\n",
       "\n",
       "    .dataframe tbody tr th {\n",
       "        vertical-align: top;\n",
       "    }\n",
       "\n",
       "    .dataframe thead th {\n",
       "        text-align: right;\n",
       "    }\n",
       "</style>\n",
       "<table border=\"1\" class=\"dataframe\">\n",
       "  <thead>\n",
       "    <tr style=\"text-align: right;\">\n",
       "      <th></th>\n",
       "      <th>id_usuario</th>\n",
       "      <th>id_lugar</th>\n",
       "      <th>ratio</th>\n",
       "    </tr>\n",
       "  </thead>\n",
       "  <tbody>\n",
       "    <tr>\n",
       "      <th>0</th>\n",
       "      <td>123</td>\n",
       "      <td>17376</td>\n",
       "      <td>6</td>\n",
       "    </tr>\n",
       "    <tr>\n",
       "      <th>1</th>\n",
       "      <td>123</td>\n",
       "      <td>17377</td>\n",
       "      <td>6</td>\n",
       "    </tr>\n",
       "    <tr>\n",
       "      <th>2</th>\n",
       "      <td>123</td>\n",
       "      <td>17380</td>\n",
       "      <td>6</td>\n",
       "    </tr>\n",
       "    <tr>\n",
       "      <th>3</th>\n",
       "      <td>123</td>\n",
       "      <td>17392</td>\n",
       "      <td>3</td>\n",
       "    </tr>\n",
       "    <tr>\n",
       "      <th>4</th>\n",
       "      <td>123</td>\n",
       "      <td>17395</td>\n",
       "      <td>4</td>\n",
       "    </tr>\n",
       "  </tbody>\n",
       "</table>\n",
       "</div>"
      ],
      "text/plain": [
       "  id_usuario id_lugar ratio\n",
       "0        123    17376     6\n",
       "1        123    17377     6\n",
       "2        123    17380     6\n",
       "3        123    17392     3\n",
       "4        123    17395     4"
      ]
     },
     "execution_count": 12,
     "metadata": {},
     "output_type": "execute_result"
    }
   ],
   "source": [
    "with open(\"puntuaciones_usuario_base.txt\", \"r\", encoding=\"latin-1\") as file:\n",
    "    # Leemos todas las líneas del archivo\n",
    "    lines = file.readlines()\n",
    "\n",
    "# Limpiamos las líneas (removemos saltos de línea)\n",
    "lines = [line.strip() for line in lines]\n",
    "\n",
    "# Dividimos las líneas en grupos de 3\n",
    "data = []\n",
    "for i in range(0, len(lines), 3):\n",
    "    id = lines[i]\n",
    "    lugar = lines[i+1]\n",
    "    ratio = lines[i+2]\n",
    "    data.append([id, lugar, ratio])\n",
    "\n",
    "# Convertimos a DataFrame\n",
    "df_base = pd.DataFrame(data, columns=['id_usuario', 'id_lugar', 'ratio'])\n",
    "df_base.head()\n"
   ]
  },
  {
   "cell_type": "code",
   "execution_count": 13,
   "metadata": {},
   "outputs": [
    {
     "data": {
      "text/html": [
       "<div>\n",
       "<style scoped>\n",
       "    .dataframe tbody tr th:only-of-type {\n",
       "        vertical-align: middle;\n",
       "    }\n",
       "\n",
       "    .dataframe tbody tr th {\n",
       "        vertical-align: top;\n",
       "    }\n",
       "\n",
       "    .dataframe thead th {\n",
       "        text-align: right;\n",
       "    }\n",
       "</style>\n",
       "<table border=\"1\" class=\"dataframe\">\n",
       "  <thead>\n",
       "    <tr style=\"text-align: right;\">\n",
       "      <th></th>\n",
       "      <th>id_usuario</th>\n",
       "      <th>id_lugar</th>\n",
       "      <th>ratio</th>\n",
       "    </tr>\n",
       "  </thead>\n",
       "  <tbody>\n",
       "    <tr>\n",
       "      <th>0</th>\n",
       "      <td>123</td>\n",
       "      <td>17365</td>\n",
       "      <td>6</td>\n",
       "    </tr>\n",
       "    <tr>\n",
       "      <th>1</th>\n",
       "      <td>123</td>\n",
       "      <td>17366</td>\n",
       "      <td>3</td>\n",
       "    </tr>\n",
       "    <tr>\n",
       "      <th>2</th>\n",
       "      <td>123</td>\n",
       "      <td>17367</td>\n",
       "      <td>3</td>\n",
       "    </tr>\n",
       "    <tr>\n",
       "      <th>3</th>\n",
       "      <td>123</td>\n",
       "      <td>17369</td>\n",
       "      <td>6</td>\n",
       "    </tr>\n",
       "    <tr>\n",
       "      <th>4</th>\n",
       "      <td>123</td>\n",
       "      <td>17371</td>\n",
       "      <td>6</td>\n",
       "    </tr>\n",
       "  </tbody>\n",
       "</table>\n",
       "</div>"
      ],
      "text/plain": [
       "  id_usuario id_lugar ratio\n",
       "0        123    17365     6\n",
       "1        123    17366     3\n",
       "2        123    17367     3\n",
       "3        123    17369     6\n",
       "4        123    17371     6"
      ]
     },
     "execution_count": 13,
     "metadata": {},
     "output_type": "execute_result"
    }
   ],
   "source": [
    "with open(\"puntuaciones_usuario_test.txt\", \"r\", encoding=\"latin-1\") as file:\n",
    "    # Leemos todas las líneas del archivo\n",
    "    lines = file.readlines()\n",
    "\n",
    "# Limpiamos las líneas (removemos saltos de línea)\n",
    "lines = [line.strip() for line in lines]\n",
    "\n",
    "# Dividimos las líneas en grupos de 3\n",
    "data = []\n",
    "for i in range(0, len(lines), 3):\n",
    "    id = lines[i]\n",
    "    lugar = lines[i+1]\n",
    "    ratio = lines[i+2]\n",
    "    data.append([id, lugar, ratio])\n",
    "\n",
    "# Convertimos a DataFrame\n",
    "df_test = pd.DataFrame(data, columns=['id_usuario', 'id_lugar', 'ratio'])\n",
    "df_test.head()"
   ]
  },
  {
   "cell_type": "code",
   "execution_count": null,
   "metadata": {},
   "outputs": [],
   "source": [
    "df_base['ratio'] = (df_base['ratio'] - df_base['ratio'].min()) / (df_base['ratio'].max() - df_base['ratio'].min()) * 100\n",
    "df_test['ratio'] = (df_test['ratio'] - df_test['ratio'].min()) / (df_test['ratio'].max() - df_test['ratio'].min()) * 100\n"
   ]
  }
 ],
 "metadata": {
  "kernelspec": {
   "display_name": "base",
   "language": "python",
   "name": "python3"
  },
  "language_info": {
   "codemirror_mode": {
    "name": "ipython",
    "version": 3
   },
   "file_extension": ".py",
   "mimetype": "text/x-python",
   "name": "python",
   "nbconvert_exporter": "python",
   "pygments_lexer": "ipython3",
   "version": "3.12.7"
  }
 },
 "nbformat": 4,
 "nbformat_minor": 2
}
